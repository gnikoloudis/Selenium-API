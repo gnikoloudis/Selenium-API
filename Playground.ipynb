{
 "cells": [
  {
   "cell_type": "code",
   "execution_count": 2,
   "metadata": {},
   "outputs": [],
   "source": [
    "import requests\n",
    "import json\n",
    "import pandas as pd\n",
    "\n",
    "def send_post_request(url, command, method, selector):\n",
    "    \"\"\"\n",
    "    Function to send a POST request to the Flask API with a specific command and selector.\n",
    "    \n",
    "    Args:\n",
    "    - url (str): The URL of the Flask API endpoint.\n",
    "    - command (str): The command to be executed on the API.\n",
    "    - method (str): The method used to find elements (e.g., by class).\n",
    "    - selector (str): The selector to search for in the document.\n",
    "    \n",
    "    Returns:\n",
    "    - dict: The JSON response from the API as a Python dictionary.\n",
    "    \"\"\"\n",
    "    data = {\n",
    "        \"command\": command,\n",
    "        \"params\": {\n",
    "            \"method\": method,\n",
    "            \"selector\": selector\n",
    "        }\n",
    "    }\n",
    "\n",
    "    headers = {\n",
    "        \"Content-Type\": \"application/json\"\n",
    "    }\n",
    "\n",
    "    response = requests.post(url, headers=headers, data=json.dumps(data))\n",
    "    \n",
    "    if response.status_code == 200:\n",
    "        print(f\"Successfully fetched data for selector '{selector}'.\")\n",
    "        return response.json()\n",
    "    else:\n",
    "        print(f\"Failed to fetch data. Status Code: {response.status_code}\")\n",
    "        return None\n",
    "\n",
    "\n",
    "def fetch_product_data(url):\n",
    "    \"\"\"\n",
    "    Function to fetch product data (name, price, price per unit) from the Flask API.\n",
    "    \n",
    "    Args:\n",
    "    - url (str): The URL of the Flask API endpoint.\n",
    "    \n",
    "    Returns:\n",
    "    - dict: A dictionary with lists of product names, prices, and price per unit.\n",
    "    \"\"\"\n",
    "    product_title = send_post_request(url, \"find_all\", \"class\", \"product__title\")\n",
    "    product_price = send_post_request(url, \"find_all\", \"class\", \"price\")\n",
    "    product_price_unit = send_post_request(url, \"find_all\", \"class\", \"priceKil\")\n",
    "\n",
    "    # Check if all data is fetched properly\n",
    "    if product_title and product_price and product_price_unit:\n",
    "        return {\n",
    "            'Product Name': product_title['command_result']['elements'],\n",
    "            'Price per Unit': product_price_unit['command_result']['elements'],\n",
    "            'Product Price': product_price['command_result']['elements']\n",
    "        }\n",
    "    else:\n",
    "        print(\"Error fetching some of the product data.\")\n",
    "        return None\n",
    "\n",
    "\n",
    "# Function to split price and unit\n",
    "def split_unit(column):\n",
    "    \n",
    "    split_values = column.split(' ')\n",
    "    # Check if split returns exactly 2 values (price and unit)\n",
    "    if len(split_values) == 2:\n",
    "        price, unit = split_values\n",
    "        return price.replace(\",\",\".\"),unit\n",
    "    else:\n",
    "        # If not, return the original value in both fields\n",
    "        return None,None\n",
    "    \n",
    "\n",
    "def split_price(column):\n",
    "    \n",
    "    if column:\n",
    "        split_values = column.split('\\n')\n",
    "        # Check if split returns exactly 2 values (price and unit)\n",
    "        if len(split_values) == 2:\n",
    "            price1, price2 = split_values\n",
    "            return price1.replace(\",\",\".\"), price2.replace(\",\",\".\")\n",
    "        else:\n",
    "            # If not, return the original value in both fields\n",
    "            return column, column\n",
    "\n"
   ]
  },
  {
   "cell_type": "code",
   "execution_count": null,
   "metadata": {},
   "outputs": [],
   "source": [
    "# Define the URL of the Flask API endpoint\n",
    "url = \"http://127.0.0.1:5000/execute\"\n",
    "# Fetch product data from the API\n",
    "product_data = fetch_product_data(url)"
   ]
  },
  {
   "cell_type": "code",
   "execution_count": 12,
   "metadata": {},
   "outputs": [],
   "source": [
    "\n",
    "def create_dataframe(product_data):\n",
    "    \"\"\"\n",
    "    Function to create a pandas DataFrame from product data.\n",
    "    \n",
    "    Args:\n",
    "    - product_data (dict): A dictionary with lists of product names, prices, and price per unit.\n",
    "    \n",
    "    Returns:\n",
    "    - pd.DataFrame: A pandas DataFrame containing the product data.\n",
    "    \"\"\"\n",
    "    if product_data:\n",
    "        df = pd.DataFrame(product_data)\n",
    "        return df\n",
    "    else:\n",
    "        print(\"No data to create DataFrame.\")\n",
    "        return None\n",
    "\n",
    "\n",
    "df = create_dataframe(product_data)"
   ]
  },
  {
   "cell_type": "code",
   "execution_count": 13,
   "metadata": {},
   "outputs": [],
   "source": [
    "df['Price per Unit'],df['Measurent Unit per Unit']=zip(*df['Price per Unit'].apply(split_unit))\n",
    "df[['Price per Unit Initial', 'Price per Unit']] = df['Price per Unit'].apply(split_price).apply(pd.Series)\n",
    "\n",
    "df['Product Price'],df['Measurent Unit per Product']=zip(*df['Product Price'].apply(split_unit))\n",
    "df[['Product Price Initial', 'Product Price']] = df['Product Price'].apply(split_price).apply(pd.Series)\n",
    "\n",
    "df['Unit Price per Difference'] = df['Price per Unit'].astype(float) - df['Price per Unit Initial'].astype(float)\n",
    "\n",
    "df['Product Price per Difference'] = df['Product Price'].astype(float) - df['Product Price Initial'].astype(float)\n",
    "\n",
    "df = df[['Product Name', 'Price per Unit',  'Price per Unit Initial','Unit Price per Difference','Measurent Unit per Unit','Product Price', 'Product Price Initial','Product Price per Difference', 'Measurent Unit per Product',]]"
   ]
  },
  {
   "cell_type": "code",
   "execution_count": 85,
   "metadata": {},
   "outputs": [
    {
     "name": "stdout",
     "output_type": "stream",
     "text": [
      "7200_20241026_100550.xls\n",
      "7200_20241027_080228.xls\n",
      "7200_20241027_082547.xls\n"
     ]
    }
   ],
   "source": [
    "import pandas as pd\n",
    "from datetime import datetime\n",
    "import os\n",
    "import win32com.client as win32\n",
    "import pywintypes\n",
    "\n",
    "# Helper function to convert pywintypes datetime to naive datetime\n",
    "def convert_to_naive_datetime(value):\n",
    "    if isinstance(value, (pywintypes.Time, datetime)):\n",
    "        pytime = pywintypes.Time(value)\n",
    "        # Convert to pandas datetime and remove timezone\n",
    "        return pd.to_datetime(pytime).tz_localize(None)\n",
    "    return value  # Return the value as-is if it doesn't need conversio\n",
    "\n",
    "        \n",
    "                \n",
    "default_directory = \"C:\\\\Users\\\\georg\\\\Python Projects\\\\Selenium API\\\\promitheus\\Promithies\"\n",
    "pcvs = [7200]\n",
    "\n",
    "\n",
    "consolidated_df = pd.DataFrame()\n",
    "\n",
    "# Loop through files in the current directory\n",
    "for filename in os.listdir(default_directory):\n",
    "    # Check if the file is an Excel file and starts with one of the specified prefixes\n",
    "    if filename.endswith(\".xls\") and any(filename.startswith(str(pcv)) for pcv in pcvs):\n",
    "        print(filename)\n",
    "        # Read the Excel file into a DataFrame\n",
    "        excel = win32.gencache.EnsureDispatch('Excel.Application')\n",
    "        wb = excel.Workbooks.Open(f\"{default_directory}\\\\{filename}\")\n",
    "        sheet = wb.Sheets(1)  # Access the first sheet\n",
    "        # Close the workbook and Excel application\n",
    "        # Extract data to a DataFrame\n",
    "        data_rows = sheet.UsedRange.Value[1:]\n",
    "        columns = sheet.UsedRange.Value[0]\n",
    "        \n",
    "        data_list = [list(item) for item in data_rows]\n",
    "        \n",
    "        # Close the workbook and Excel application\n",
    "        wb.Close(SaveChanges=False)\n",
    "        excel.Quit()\n",
    "        for row in data_list:\n",
    "            for i in range(4,7):\n",
    "                date  = datetime.date(pywintypes.Time(row[i]))\n",
    "                time  = datetime.time(pywintypes.Time(row[i]))\n",
    "                row[i] = datetime.combine(date, time)\n",
    "        \n",
    "        df = pd.DataFrame(data_list, columns=columns)"
   ]
  },
  {
   "cell_type": "code",
   "execution_count": 90,
   "metadata": {},
   "outputs": [
    {
     "data": {
      "text/plain": [
       "'359137'"
      ]
     },
     "execution_count": 90,
     "metadata": {},
     "output_type": "execute_result"
    }
   ],
   "source": [
    "df[\"Α/Α Διαγωνιστικής Διαδικασίας\"][1]"
   ]
  },
  {
   "cell_type": "code",
   "execution_count": 87,
   "metadata": {},
   "outputs": [
    {
     "data": {
      "text/plain": [
       "0           09331200-0,31158000-8,31720000-9,42967000-2\n",
       "1                      32441200-8,48000000-8,72000000-5\n",
       "2     03121100-6,03142500-3,03200000-3,03211000-3,03...\n",
       "3                      30237200-1,48900000-7,80533100-0\n",
       "4     30000000-9,30237000-9,30237100-0,30237200-1,48...\n",
       "5                                            39717200-3\n",
       "6                                            50720000-8\n",
       "7                                            31527200-8\n",
       "8                                            72000000-5\n",
       "9                                            42997200-3\n",
       "10                                           31527200-8\n",
       "11                                30230000-0,30237200-1\n",
       "12                                           31720000-9\n",
       "13                                31527200-8,34928500-3\n",
       "14    30210000-4,30211000-1,30213000-5,30213100-6,30...\n",
       "15    18521000-7,18523000-1,19520000-7,24500000-9,30...\n",
       "16                                           72000000-5\n",
       "17                                           60172000-4\n",
       "18    30120000-6,30125110-5,31681410-0,31710000-6,32...\n",
       "19                                           31720000-9\n",
       "20                     31522000-1,31527200-8,31681410-0\n",
       "21    30000000-9,30213000-5,30237000-9,30237475-9,32...\n",
       "22                                           31720000-9\n",
       "Name: Κωδικός CPV, dtype: object"
      ]
     },
     "execution_count": 87,
     "metadata": {},
     "output_type": "execute_result"
    }
   ],
   "source": [
    "# Convert the prefixes list to strings\n",
    "pcvs_str = [str(prefix) for prefix in pcvs]\n",
    "\n",
    "# Define a function to check if any of the codes in the text start with any of the prefixes\n",
    "def starts_with_prefix(codes):\n",
    "    # Split the codes by commas\n",
    "    code_list = codes.split(',')\n",
    "    # Check if any code starts with any prefix in pcvs_str\n",
    "    return any(code.startswith(tuple(pcvs_str)) for code in code_list)\n",
    "\n",
    "# Apply the function to filter the DataFrame\n",
    "filtered_df = df[df['column_name'].apply(starts_with_prefix)]"
   ]
  },
  {
   "cell_type": "code",
   "execution_count": 6,
   "metadata": {},
   "outputs": [
    {
     "name": "stdout",
     "output_type": "stream",
     "text": [
      "Converted DateTime: 2024-10-03 17:32:17+00:00\n"
     ]
    }
   ],
   "source": [
    "from datetime import datetime\n",
    "import operator\n",
    "import time\n",
    "import unittest\n",
    "\n",
    "import pywintypes\n",
    "\n",
    "value = data_rows[1][4]\n",
    "\n",
    "\n",
    "try:\n",
    "    if type(value) == \"<class 'pywintypes.datetime'>\":\n",
    "        pytime_current = pywintypes.Time(value)\n",
    "        pytime_current = pywintypes.Time(pytime_current)\n",
    "        print(type(pytime_current))\n",
    "    else:\n",
    "        # Try initializing as pywintypes.Time first, if it's a raw date input\n",
    "        pytime_current = pywintypes.Time(value)\n",
    "        datetime_obj = datetime.fromisoformat(pytime_current)\n",
    "\n",
    "   \n",
    "    \n",
    "    print(\"Converted DateTime:\", datetime_obj)\n",
    "\n",
    "except Exception as e:\n",
    "    print(f\"Error converting value '{value}': {e}\")"
   ]
  },
  {
   "cell_type": "code",
   "execution_count": null,
   "metadata": {},
   "outputs": [],
   "source": [
    "https://nepps-search.eprocurement.gov.gr/actSearch/resources/search/ 359121,1"
   ]
  }
 ],
 "metadata": {
  "kernelspec": {
   "display_name": "selapienv",
   "language": "python",
   "name": "python3"
  },
  "language_info": {
   "codemirror_mode": {
    "name": "ipython",
    "version": 3
   },
   "file_extension": ".py",
   "mimetype": "text/x-python",
   "name": "python",
   "nbconvert_exporter": "python",
   "pygments_lexer": "ipython3",
   "version": "3.11.10"
  }
 },
 "nbformat": 4,
 "nbformat_minor": 2
}
